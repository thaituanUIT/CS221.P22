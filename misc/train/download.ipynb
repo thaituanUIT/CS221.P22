{
 "cells": [
  {
   "cell_type": "code",
   "execution_count": 1,
   "id": "cf0ad5e5",
   "metadata": {},
   "outputs": [],
   "source": [
    "import hashlib\n",
    "import re\n",
    "import sys\n",
    "import tarfile\n",
    "from collections import Counter, defaultdict\n",
    "from pathlib import Path\n",
    "import requests"
   ]
  },
  {
   "cell_type": "code",
   "execution_count": 2,
   "id": "aa50674d",
   "metadata": {},
   "outputs": [
    {
     "data": {
      "text/plain": [
       "189603606"
      ]
     },
     "execution_count": 2,
     "metadata": {},
     "output_type": "execute_result"
    }
   ],
   "source": [
    "# Download the dataset\n",
    "fname = 'wikitext-103.tar.gz'\n",
    "url = 'https://dax-cdn.cdn.appdomain.cloud/dax-wikitext-103/1.0.1/' + fname\n",
    "r = requests.get(url)\n",
    "Path(fname).write_bytes(r.content)"
   ]
  },
  {
   "cell_type": "code",
   "execution_count": 3,
   "id": "1ee3044f",
   "metadata": {},
   "outputs": [
    {
     "data": {
      "text/plain": [
       "True"
      ]
     },
     "execution_count": 3,
     "metadata": {},
     "output_type": "execute_result"
    }
   ],
   "source": [
    "# Verify the file was downloaded properly by comparing sha512 checksums\n",
    "sha512sum = 'c8186919aa1840af6b734ea41abc580574ea8efe2fafda220f5d01002464d17566d84be5199b875136c9593f0e0678fb5d7c84bb2231de8b4151cb9c83fa2109'\n",
    "sha512sum_computed = hashlib.sha512(Path('wikitext-103.tar.gz').read_bytes()).hexdigest()\n",
    "sha512sum == sha512sum_computed"
   ]
  },
  {
   "cell_type": "code",
   "execution_count": 4,
   "id": "bc7d0885",
   "metadata": {},
   "outputs": [],
   "source": [
    "# Extract the dataset\n",
    "with tarfile.open(fname, 'r:gz') as tar:\n",
    "    tar.extractall()"
   ]
  }
 ],
 "metadata": {
  "kernelspec": {
   "display_name": "Python 3",
   "language": "python",
   "name": "python3"
  },
  "language_info": {
   "codemirror_mode": {
    "name": "ipython",
    "version": 3
   },
   "file_extension": ".py",
   "mimetype": "text/x-python",
   "name": "python",
   "nbconvert_exporter": "python",
   "pygments_lexer": "ipython3",
   "version": "3.12.0"
  }
 },
 "nbformat": 4,
 "nbformat_minor": 5
}
